{
 "cells": [
  {
   "cell_type": "code",
   "outputs": [
    {
     "name": "stdout",
     "output_type": "stream",
     "text": [
      "{'flashcards': [{'flashcard_index': 1, 'flashcard_topic': 'Eye Movement and Muscles', 'flashcard_question': 'Which six muscles control eye movement?', 'flashcard_answer': 'Superior oblique, Inferior oblique, Superior rectus, Inferior rectus, Medial rectus, Lateral rectus.', 'flashcard_keyword': ['muscles', 'eye movement']}, {'flashcard_index': 2, 'flashcard_topic': 'Eye Movement and Stability', 'flashcard_question': 'How does eye movement help maintain a stable image on the retina?', 'flashcard_answer': 'The eyes can move independently of objects or head movements, keeping the image on the fovea centralis stable. This improves fine detail discrimination, especially in low vision conditions.', 'flashcard_keyword': ['eye movement', 'stability']}, {'flashcard_index': 3, 'flashcard_topic': 'Eye Muscles and Accommodation', 'flashcard_question': 'What role do eye muscles play in visual accommodation?', 'flashcard_answer': 'Eye muscles not only control eye movement but also participate in the accommodation process. This involves changing the curvature of the lens to adjust focus based on distance changes.', 'flashcard_keyword': ['eye muscles', 'accommodation']}, {'flashcard_index': 4, 'flashcard_topic': 'Eye Muscles and Focus Adjustment', 'flashcard_question': 'How do eye muscles adjust focus when looking at objects at different distances?', 'flashcard_answer': \"The ciliary muscle and the pupil sphincter contract to increase the eye's power of accommodation, allowing images to be focused clearly on the fovea centralis.\", 'flashcard_keyword': ['eye muscles', 'focus adjustment']}]}\n",
      "<class 'dict'>\n"
     ]
    }
   ],
   "source": [
    "## Specifying the model that we want from Ollama and the creativity of the output(0-1, 1 for max creativity)\n",
    "from langchain_community.llms import Ollama\n",
    "\n",
    "llm = Ollama(model=\"mistral\", temperature = 0.0)\n",
    "\n",
    "## Prompt template\n",
    "from langchain_core.prompts import ChatPromptTemplate\n",
    "\n",
    "flashcardgen = ChatPromptTemplate.from_messages([\n",
    "    (\"system\", \"\"\"\n",
    "    You are a flashcard creator that creates flashcard based on fact and text input. \n",
    "    You will need to create these flashcard with the intention to test out all the information in the input, ensuring deep understanding of the material. \n",
    "    You will create flashcards by following the instructions listed below: \n",
    "    1. Conceptualize the input text into chunks.\n",
    "    2. Create questions for each concept from step 1. and keep them simple to read. Make sure every concept have been mentioned in the output.\n",
    "    3. Format the output as a whole JSON file with the following keys:\n",
    "    flashcard_index\n",
    "    flashcard_topic\n",
    "    flashcard_question\n",
    "    flashcard_answer\n",
    "    flashcard_keyword\n",
    "    \n",
    "    Keep the keywords count equal or less than 5.\n",
    "    \n",
    "    Only output the whole JSON file and nothing else, no dialogue.\n",
    "    \"\"\"),\n",
    "    (\"user\", \"{input}\")\n",
    "])\n",
    "\n",
    "## JSON parsing\n",
    "from typing import List\n",
    "from langchain_core.output_parsers import JsonOutputParser\n",
    "from langchain_core.pydantic_v1 import BaseModel, Field\n",
    "class flashcards(BaseModel):\n",
    "    flashcard_index: int = Field(description=\"The index of the current flashcard with respect to the whole JSON file.\")\n",
    "    flashcard_topic: str = Field(description=\"The topic of the flashcard.\")\n",
    "    flashcard_question: str = Field(description=\"The question of the flashcard.\")\n",
    "    flashcard_answer: str = Field(description=\"The answer of the flashcard.\")\n",
    "    flashcard_keyword: str = Field(description=\"The keywords of the flashcard.\")\n",
    "\n",
    "output_parser = JsonOutputParser(pydantic_object=flashcards)\n",
    "\n",
    "## Make the chain\n",
    "chain = flashcardgen | llm | output_parser\n",
    "\n",
    "deck = chain.invoke({\"input\": \"\"\"\n",
    "1. 眼的移動由6條骨骼肌控制，即上斜肌（Superior oblique）、下斜肌（Inferior oblique）、上直肌（Superior rectus）、下直肌（Inferior rectus）、內直肌（Medial rectus）和外直肌(Lateral rectus）。這些肌肉協調運動可以使眼球移動，以掃描視野中的物體，保持對焦於目標，並調整眼睛的焦點以適應環境變化rectus）。這些肌肉協調運可以使眼球移動，以掃描視野中的物體，保持對焦於目標，並調整眼睛的焦點以適應環境變化。\n",
    "2. 物的或頭部在移動時，眼的移動可以獨立於物體移動之外，使得視網膜上的影像能夠穩定地維持在中央小窩這一區域中，即黃斑中心凹（fovea centralis）。這樣做有助於提高對細微差別的分辨能力，尤其是在低視野的情況下。\n",
    "3. 這些肌肉不僅能控制眼球運動，還能參與視覺調適（accommodation）過程，這是指眼睛改變其晶體曲率，以調整焦點以更好地適應距離變化。當人眼這些肌肉不僅能控制眼球運動，還能參與視覺調適（accommodation）過程，這是指眼睛改變其晶體曲率，以調整焦點以更好地適應距離變化。當人眼從遠處看近物時，會透過睫狀肌和睫狀小帶的收縮作用來增加眼的屈光力，使得影像能夠清晰聚焦在黃斑中心凹。\n",
    "總之，眼球的運動是由一系列肌肉協調控制的，這些肌肉不僅能移動眼球以對應環境中的物體，還能參與視覺功能的許多其他方面，包括維持穩定清晰的視野以及實現視覺遠處看近物時，會透過睫狀肌和睫狀小帶的收縮作用來增加眼的屈光力，使得影像能夠清晰聚焦在黃斑中心凹。總之，眼球的運動是由一系列肌肉協調控制的，這些肌肉不僅能移動眼球以對應環境中的物體，還能參與視覺功能的許多其他方面，包括維持穩定清晰的視野以及實現視覺調適。\n",
    "\"\"\"})\n",
    "\n",
    "print(deck)\n",
    "print(type(deck))"
   ],
   "metadata": {
    "collapsed": false,
    "ExecuteTime": {
     "end_time": "2024-01-24T12:47:26.439791Z",
     "start_time": "2024-01-24T12:46:57.228504Z"
    }
   },
   "id": "ed8b88cc1901061d",
   "execution_count": 5
  },
  {
   "cell_type": "code",
   "outputs": [],
   "source": [
    "output = [{'flashcard_index': 1, 'flashcard_topic': 'Eye Movement and Muscles', 'flashcard_question': 'Which six muscles control eye movement?', 'flashcard_answer': 'Superior oblique, Inferior oblique, Superior rectus, Inferior rectus, Medial rectus, Lateral rectus.', 'flashcard_keyword': ['muscles', 'eye movement']}, {'flashcard_index': 2, 'flashcard_topic': 'Eye Movement and Stability', 'flashcard_question': 'How does eye movement help maintain a stable image on the retina?', 'flashcard_answer': 'The eyes can move independently of objects or head movements, keeping the image on the fovea centralis stable. This improves fine detail discrimination, especially in low vision conditions.', 'flashcard_keyword': ['eye movement', 'stability']}, {'flashcard_index': 3, 'flashcard_topic': 'Eye Muscles and Accommodation', 'flashcard_question': 'What role do eye muscles play in visual accommodation?', 'flashcard_answer': 'Eye muscles not only control eye movement but also participate in the accommodation process. This involves changing the curvature of the lens to adjust focus according to distance changes.', 'flashcard_keyword': ['eye muscles', 'accommodation']}, {'flashcard_index': 4, 'flashcard_topic': 'Eye Adaptation and Focusing', 'flashcard_question': 'How does the eye adjust focus when looking at objects at different distances?', 'flashcard_answer': 'The eyes change their curvature by using the ciliary muscle and the accommodating lens to increase or decrease their power, allowing clear images to form on the fovea centralis.', 'flashcard_keyword': ['eye adaptation', 'focusing']}]"
   ],
   "metadata": {
    "collapsed": true,
    "ExecuteTime": {
     "end_time": "2024-01-24T12:57:48.886851Z",
     "start_time": "2024-01-24T12:57:48.877313Z"
    }
   },
   "id": "initial_id",
   "execution_count": 19
  },
  {
   "cell_type": "code",
   "outputs": [
    {
     "name": "stdout",
     "output_type": "stream",
     "text": [
      "<class 'list'>\n",
      "<class 'dict'>\n"
     ]
    }
   ],
   "source": [
    "print(type(output))\n",
    "print(type(output[0]))"
   ],
   "metadata": {
    "collapsed": false,
    "ExecuteTime": {
     "end_time": "2024-01-24T12:58:13.108383Z",
     "start_time": "2024-01-24T12:58:13.106145Z"
    }
   },
   "id": "213ee43cdef36840",
   "execution_count": 20
  },
  {
   "cell_type": "code",
   "outputs": [
    {
     "name": "stdout",
     "output_type": "stream",
     "text": [
      "1\n",
      "Eye Movement and Muscles\n",
      "Which six muscles control eye movement?\n",
      "Superior oblique, Inferior oblique, Superior rectus, Inferior rectus, Medial rectus, Lateral rectus.\n",
      "['muscles', 'eye movement']\n",
      "2\n",
      "Eye Movement and Stability\n",
      "How does eye movement help maintain a stable image on the retina?\n",
      "The eyes can move independently of objects or head movements, keeping the image on the fovea centralis stable. This improves fine detail discrimination, especially in low vision conditions.\n",
      "['eye movement', 'stability']\n",
      "3\n",
      "Eye Muscles and Accommodation\n",
      "What role do eye muscles play in visual accommodation?\n",
      "Eye muscles not only control eye movement but also participate in the accommodation process. This involves changing the curvature of the lens to adjust focus according to distance changes.\n",
      "['eye muscles', 'accommodation']\n",
      "4\n",
      "Eye Adaptation and Focusing\n",
      "How does the eye adjust focus when looking at objects at different distances?\n",
      "The eyes change their curvature by using the ciliary muscle and the accommodating lens to increase or decrease their power, allowing clear images to form on the fovea centralis.\n",
      "['eye adaptation', 'focusing']\n"
     ]
    }
   ],
   "source": [
    "for card in output:\n",
    "    print(card[\"flashcard_index\"])\n",
    "    print(card[\"flashcard_topic\"])\n",
    "    print(card[\"flashcard_question\"])\n",
    "    print(card[\"flashcard_answer\"])\n",
    "    print(card[\"flashcard_keyword\"])"
   ],
   "metadata": {
    "collapsed": false,
    "ExecuteTime": {
     "end_time": "2024-01-24T12:48:25.153257Z",
     "start_time": "2024-01-24T12:48:25.149442Z"
    }
   },
   "id": "7be91e709602c1c0",
   "execution_count": 10
  },
  {
   "cell_type": "code",
   "outputs": [
    {
     "name": "stdout",
     "output_type": "stream",
     "text": [
      "   flashcard_index                flashcard_topic  \\\n",
      "0                1       Eye Movement and Muscles   \n",
      "1                2     Eye Movement and Stability   \n",
      "2                3  Eye Muscles and Accommodation   \n",
      "3                4    Eye Adaptation and Focusing   \n",
      "\n",
      "                                  flashcard_question  \\\n",
      "0            Which six muscles control eye movement?   \n",
      "1  How does eye movement help maintain a stable i...   \n",
      "2  What role do eye muscles play in visual accomm...   \n",
      "3  How does the eye adjust focus when looking at ...   \n",
      "\n",
      "                                    flashcard_answer  \\\n",
      "0  Superior oblique, Inferior oblique, Superior r...   \n",
      "1  The eyes can move independently of objects or ...   \n",
      "2  Eye muscles not only control eye movement but ...   \n",
      "3  The eyes change their curvature by using the c...   \n",
      "\n",
      "              flashcard_keyword  \n",
      "0       [muscles, eye movement]  \n",
      "1     [eye movement, stability]  \n",
      "2  [eye muscles, accommodation]  \n",
      "3    [eye adaptation, focusing]  \n"
     ]
    }
   ],
   "source": [
    "import pandas as pd\n",
    "\n",
    "deck_df = pd.DataFrame(data=output, columns=['flashcard_index', 'flashcard_topic', 'flashcard_question', 'flashcard_answer', 'flashcard_keyword'])\n",
    "print(deck_df)"
   ],
   "metadata": {
    "collapsed": false,
    "ExecuteTime": {
     "end_time": "2024-01-24T13:00:02.332584Z",
     "start_time": "2024-01-24T13:00:02.328584Z"
    }
   },
   "id": "744f4d243316de76",
   "execution_count": 23
  },
  {
   "cell_type": "code",
   "outputs": [],
   "source": [
    "deck_df.to_csv('csv.csv', index=False)"
   ],
   "metadata": {
    "collapsed": false,
    "ExecuteTime": {
     "end_time": "2024-01-24T13:03:17.727649Z",
     "start_time": "2024-01-24T13:03:17.721821Z"
    }
   },
   "id": "887955440157eac6",
   "execution_count": 27
  }
 ],
 "metadata": {
  "kernelspec": {
   "display_name": "Python 3",
   "language": "python",
   "name": "python3"
  },
  "language_info": {
   "codemirror_mode": {
    "name": "ipython",
    "version": 2
   },
   "file_extension": ".py",
   "mimetype": "text/x-python",
   "name": "python",
   "nbconvert_exporter": "python",
   "pygments_lexer": "ipython2",
   "version": "2.7.6"
  }
 },
 "nbformat": 4,
 "nbformat_minor": 5
}
